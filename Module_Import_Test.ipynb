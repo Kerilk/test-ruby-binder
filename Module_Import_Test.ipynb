{
 "cells": [
  {
   "cell_type": "markdown",
   "id": "2254420d",
   "metadata": {},
   "source": [
    "https://github.com/SciRuby/iruby/issues/303#issuecomment-851850867"
   ]
  },
  {
   "cell_type": "code",
   "execution_count": null,
   "id": "c7fd23c8",
   "metadata": {},
   "outputs": [],
   "source": [
    "module Foo\n",
    "  def bar\n",
    "    puts \"baz\"\n",
    "  end\n",
    "end\n",
    "\n",
    "include Foo"
   ]
  },
  {
   "cell_type": "code",
   "execution_count": null,
   "id": "cf24bd98",
   "metadata": {},
   "outputs": [],
   "source": [
    "bar"
   ]
  }
 ],
 "metadata": {
  "kernelspec": {
   "display_name": "Ruby 2.7.4",
   "language": "ruby",
   "name": "ruby"
  },
  "language_info": {
   "file_extension": ".rb",
   "mimetype": "application/x-ruby",
   "name": "ruby",
   "version": "2.7.4"
  }
 },
 "nbformat": 4,
 "nbformat_minor": 5
}
